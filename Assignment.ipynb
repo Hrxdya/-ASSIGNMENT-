{
  "nbformat": 4,
  "nbformat_minor": 0,
  "metadata": {
    "colab": {
      "name": "Assignment",
      "provenance": [],
      "authorship_tag": "ABX9TyOUoBizeUKGy15nuztEsT5F",
      "include_colab_link": true
    },
    "kernelspec": {
      "name": "python3",
      "display_name": "Python 3"
    },
    "language_info": {
      "name": "python"
    }
  },
  "cells": [
    {
      "cell_type": "markdown",
      "metadata": {
        "id": "view-in-github",
        "colab_type": "text"
      },
      "source": [
        "<a href=\"https://colab.research.google.com/github/Hrxdya/-ASSIGNMENT-/blob/main/Assignment.ipynb\" target=\"_parent\"><img src=\"https://colab.research.google.com/assets/colab-badge.svg\" alt=\"Open In Colab\"/></a>"
      ]
    },
    {
      "cell_type": "code",
      "metadata": {
        "colab": {
          "base_uri": "https://localhost:8080/"
        },
        "id": "cd6XO24DTPIL",
        "outputId": "f31bfcc4-63b2-4678-fb47-beeaefaccf7d"
      },
      "source": [
        "#Assignment 1\n",
        "#sort a list in descending order\n",
        " \n",
        "li = [int(i) for i in input ('Enter values:'). split ()]\n",
        "li.sort()\n",
        "li.reverse()\n",
        "print (li)"
      ],
      "execution_count": null,
      "outputs": [
        {
          "output_type": "stream",
          "text": [
            "Enter values:23 34 45 56\n",
            "[56, 45, 34, 23]\n"
          ],
          "name": "stdout"
        }
      ]
    },
    {
      "cell_type": "code",
      "metadata": {
        "id": "F7gYBtDNTszh",
        "colab": {
          "base_uri": "https://localhost:8080/"
        },
        "outputId": "8da9c4d0-5860-446d-b8db-9af6919f423a"
      },
      "source": [
        "#Assignment 2\n",
        "#Remove all occurrences of an element from a list\n",
        " \n",
        "def remove(li,x):\n",
        "  for i in li: \n",
        "        if(i == x):\n",
        "         li.remove(i) \n",
        " \n",
        "x=1\n",
        "li =[3,1,5,8,7,1,6,0,1]\n",
        "y=remove(li,x)\n",
        "print (li)"
      ],
      "execution_count": null,
      "outputs": [
        {
          "output_type": "stream",
          "text": [
            "[3, 5, 8, 7, 6, 0]\n"
          ],
          "name": "stdout"
        }
      ]
    },
    {
      "cell_type": "code",
      "metadata": {
        "colab": {
          "base_uri": "https://localhost:8080/"
        },
        "id": "eJZJoxL7UfAd",
        "outputId": "66612794-9ac5-4ac1-edee-0d1fc50a3f33"
      },
      "source": [
        "#Assignment 3\n",
        "#Check whether a string is pangram\n",
        " \n",
        "import string\n",
        " \n",
        "alpha = set(string.ascii_lowercase)\n",
        "  \n",
        "def pangram(string):\n",
        "    return set(string.lower()) >= alpha\n",
        "    \n",
        "string = input(\"Enter the string:\")\n",
        "if(pangram(string) == True):\n",
        "    print(\"Yes\")\n",
        "else:\n",
        "    print(\"No\")"
      ],
      "execution_count": null,
      "outputs": [
        {
          "output_type": "stream",
          "text": [
            "Enter the string:The quick brown fox jumps over the lazy dog\n",
            "Yes\n"
          ],
          "name": "stdout"
        }
      ]
    },
    {
      "cell_type": "code",
      "metadata": {
        "id": "K9iJX9xDUkpR",
        "colab": {
          "base_uri": "https://localhost:8080/"
        },
        "outputId": "ad32dae3-7657-4635-d79b-fd5d1994d94b"
      },
      "source": [
        "# Project 1: OTP Generator\n",
        "# Generate a 6 character OTP\n",
        "import random as r\n",
        "import string\n",
        "length = 6\n",
        "otp = ''\n",
        "characters = string.ascii_letters + string.digits\n",
        " \n",
        "for i in range(length):\n",
        "  otp = otp + r.choice(characters)\n",
        " \n",
        "print(\"OTP:\",otp)"
      ],
      "execution_count": null,
      "outputs": [
        {
          "output_type": "stream",
          "text": [
            "OTP: nePbRJ\n"
          ],
          "name": "stdout"
        }
      ]
    },
    {
      "cell_type": "code",
      "metadata": {
        "id": "e3OZR_s4W0-8",
        "colab": {
          "base_uri": "https://localhost:8080/"
        },
        "outputId": "8eb39973-507b-4006-9f47-86b7c600c13c"
      },
      "source": [
        "#Project 2 : Make a temperature converter\n",
        " \n",
        "!pip install pytemperature"
      ],
      "execution_count": null,
      "outputs": [
        {
          "output_type": "stream",
          "text": [
            "Collecting pytemperature\n",
            "  Downloading pytemperature-1.0.zip (2.2 kB)\n",
            "Building wheels for collected packages: pytemperature\n",
            "  Building wheel for pytemperature (setup.py) ... \u001b[?25l\u001b[?25hdone\n",
            "  Created wheel for pytemperature: filename=pytemperature-1.0-py3-none-any.whl size=1939 sha256=67b44529e6d5910ac2f2fd19917f7974b7548e3680acabd99fade2f25e254dff\n",
            "  Stored in directory: /root/.cache/pip/wheels/5b/3e/4c/c298388b6bf7b6fe1207e185f532a5d8cf18d30c64660b61ee\n",
            "Successfully built pytemperature\n",
            "Installing collected packages: pytemperature\n",
            "Successfully installed pytemperature-1.0\n"
          ],
          "name": "stdout"
        }
      ]
    },
    {
      "cell_type": "code",
      "metadata": {
        "id": "oRBYsIJPYIPI",
        "colab": {
          "base_uri": "https://localhost:8080/"
        },
        "outputId": "fd117641-249f-4490-c100-4f8ffd5d215d"
      },
      "source": [
        "import pytemperature\n",
        ">>> pytemperature.c2f(int(input('enter the temperature in degree celsius:')))"
      ],
      "execution_count": null,
      "outputs": [
        {
          "output_type": "stream",
          "text": [
            "enter the temperature in degree celsius:37\n"
          ],
          "name": "stdout"
        },
        {
          "output_type": "execute_result",
          "data": {
            "text/plain": [
              "98.6"
            ]
          },
          "metadata": {
            "tags": []
          },
          "execution_count": 8
        }
      ]
    }
  ]
}